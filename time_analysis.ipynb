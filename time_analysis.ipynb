{
 "cells": [
  {
   "cell_type": "code",
   "execution_count": 30,
   "id": "2b5cb6d0-dee7-42c3-b2d8-4a4d5a3905af",
   "metadata": {},
   "outputs": [],
   "source": [
    "import numpy as np\n",
    "import time\n",
    "import seaborn as sns\n",
    "import datetime \n",
    "import pandas as pd\n",
    "import warnings\n",
    "import matplotlib.pyplot as plt\n",
    "\n",
    "warnings.filterwarnings(\"ignore\")"
   ]
  },
  {
   "cell_type": "code",
   "execution_count": 2,
   "id": "64eac30d-44a2-4c2c-8892-980b7a1c202d",
   "metadata": {},
   "outputs": [],
   "source": [
    "from Sorting_algorithms import merge_sort, binary_sort, time_it"
   ]
  },
  {
   "cell_type": "markdown",
   "id": "b32e97a4-f527-4081-ac32-e7c7904808c0",
   "metadata": {},
   "source": [
    "## Time analysis for sorting algorithms"
   ]
  },
  {
   "cell_type": "code",
   "execution_count": 3,
   "id": "ff9a2a93-70c1-48d7-bfbb-cf723ec50cce",
   "metadata": {
    "tags": []
   },
   "outputs": [],
   "source": [
    "df = pd.DataFrame()\n",
    "\n",
    "for n in range(0, 10000, 100):\n",
    "    \n",
    "    unsorted_array = [i for i in np.random.randint(0, 1000, n)]\n",
    "    \n",
    "    start = time.time()\n",
    "    sorted_array = merge_sort(unsorted_array)\n",
    "    stop = time.time()\n",
    "    time_MS = time_it(start, stop)\n",
    "    # print('Time taken for merge sorting execution', time_MS)\n",
    "    \n",
    "    start = time.time()\n",
    "    sorted_array = binary_sort(unsorted_array)\n",
    "    stop = time.time()\n",
    "    time_BS = time_it(start, stop)\n",
    "    # print('Time taken for binary sorting execution', time_BS)\n",
    "    \n",
    "    \n",
    "    df = df.append({'length':int(n), 'time_BS':time_BS, 'time_MS':time_MS}, ignore_index=True)"
   ]
  },
  {
   "cell_type": "code",
   "execution_count": 4,
   "id": "b45f2169-836d-4dd8-8515-84c09dd63f06",
   "metadata": {},
   "outputs": [
    {
     "data": {
      "text/html": [
       "<div>\n",
       "<style scoped>\n",
       "    .dataframe tbody tr th:only-of-type {\n",
       "        vertical-align: middle;\n",
       "    }\n",
       "\n",
       "    .dataframe tbody tr th {\n",
       "        vertical-align: top;\n",
       "    }\n",
       "\n",
       "    .dataframe thead th {\n",
       "        text-align: right;\n",
       "    }\n",
       "</style>\n",
       "<table border=\"1\" class=\"dataframe\">\n",
       "  <thead>\n",
       "    <tr style=\"text-align: right;\">\n",
       "      <th></th>\n",
       "      <th>length</th>\n",
       "      <th>Type</th>\n",
       "      <th>Seconds</th>\n",
       "    </tr>\n",
       "  </thead>\n",
       "  <tbody>\n",
       "    <tr>\n",
       "      <th>0</th>\n",
       "      <td>0.0</td>\n",
       "      <td>time_BS</td>\n",
       "      <td>0.000000</td>\n",
       "    </tr>\n",
       "    <tr>\n",
       "      <th>1</th>\n",
       "      <td>100.0</td>\n",
       "      <td>time_BS</td>\n",
       "      <td>0.000000</td>\n",
       "    </tr>\n",
       "    <tr>\n",
       "      <th>2</th>\n",
       "      <td>200.0</td>\n",
       "      <td>time_BS</td>\n",
       "      <td>0.000000</td>\n",
       "    </tr>\n",
       "    <tr>\n",
       "      <th>3</th>\n",
       "      <td>300.0</td>\n",
       "      <td>time_BS</td>\n",
       "      <td>0.002031</td>\n",
       "    </tr>\n",
       "    <tr>\n",
       "      <th>4</th>\n",
       "      <td>400.0</td>\n",
       "      <td>time_BS</td>\n",
       "      <td>0.004004</td>\n",
       "    </tr>\n",
       "  </tbody>\n",
       "</table>\n",
       "</div>"
      ],
      "text/plain": [
       "   length     Type   Seconds\n",
       "0     0.0  time_BS  0.000000\n",
       "1   100.0  time_BS  0.000000\n",
       "2   200.0  time_BS  0.000000\n",
       "3   300.0  time_BS  0.002031\n",
       "4   400.0  time_BS  0.004004"
      ]
     },
     "execution_count": 4,
     "metadata": {},
     "output_type": "execute_result"
    }
   ],
   "source": [
    "data=pd.melt(df, ['length'])\n",
    "data.rename(columns={'variable':'Type', 'value':'Seconds'}, inplace=True)\n",
    "data.head()"
   ]
  },
  {
   "cell_type": "code",
   "execution_count": 5,
   "id": "201bda73-c88b-47a1-8012-a81d519e8c87",
   "metadata": {},
   "outputs": [
    {
     "data": {
      "text/plain": [
       "<AxesSubplot: xlabel='length', ylabel='Seconds'>"
      ]
     },
     "execution_count": 5,
     "metadata": {},
     "output_type": "execute_result"
    },
    {
     "data": {
      "image/png": "[encoded data removed]",
      "text/plain": [
       "<Figure size 432x288 with 1 Axes>"
      ]
     },
     "metadata": {
      "needs_background": "light"
     },
     "output_type": "display_data"
    }
   ],
   "source": [
    "sns.lineplot(data, x='length', y='Seconds', hue='Type')"
   ]
  },
  {
   "cell_type": "code",
   "execution_count": null,
   "id": "0105a172-1993-429b-a12f-57166ffd0064",
   "metadata": {},
   "outputs": [],
   "source": []
  },
  {
   "cell_type": "markdown",
   "id": "484ad6fc-4c79-499c-9241-dca015af8920",
   "metadata": {},
   "source": [
    "## Time Analysis for Searching algorithms"
   ]
  },
  {
   "cell_type": "code",
   "execution_count": 6,
   "id": "3d013e52-a9d2-4fb0-a292-693fcf401ed8",
   "metadata": {},
   "outputs": [],
   "source": [
    "from searching_algorithms import linear_search, binary_search"
   ]
  },
  {
   "cell_type": "code",
   "execution_count": 36,
   "id": "1a9cdac6-daaf-4886-af00-c83314597495",
   "metadata": {
    "tags": []
   },
   "outputs": [],
   "source": [
    "df = pd.DataFrame()\n",
    "\n",
    "for n in range(1, 100000, 100):\n",
    "    \n",
    "    unsorted_array = [i for i in np.random.randint(0, 1000, n)]\n",
    "    sorted_array = merge_sort(unsorted_array)\n",
    "    value = np.random.choice(sorted_array)\n",
    "\n",
    "    \n",
    "    start = time.time()\n",
    "    sorted_array = linear_search(unsorted_array, value)\n",
    "    stop = time.time()\n",
    "    time_LS = time_it(start, stop)\n",
    "    # print('Time taken for linear search execution', time_it(start, stop), ' Seconds')\n",
    "    \n",
    "    start = time.time()\n",
    "    sorted_array = binary_search(sorted_array, value)\n",
    "    stop = time.time()\n",
    "    time_BS = time_it(start, stop)\n",
    "    # print('Time taken for binary search execution', time_it(start, stop), ' Seconds')\n",
    "    \n",
    "    \n",
    "    df = df.append({'length':int(n), 'time_BS':time_BS, 'time_LS':time_LS}, ignore_index=True)"
   ]
  },
  {
   "cell_type": "code",
   "execution_count": 37,
   "id": "61ed9aba-72a5-472e-8856-7eb301033a01",
   "metadata": {},
   "outputs": [
    {
     "data": {
      "text/html": [
       "<div>\n",
       "<style scoped>\n",
       "    .dataframe tbody tr th:only-of-type {\n",
       "        vertical-align: middle;\n",
       "    }\n",
       "\n",
       "    .dataframe tbody tr th {\n",
       "        vertical-align: top;\n",
       "    }\n",
       "\n",
       "    .dataframe thead th {\n",
       "        text-align: right;\n",
       "    }\n",
       "</style>\n",
       "<table border=\"1\" class=\"dataframe\">\n",
       "  <thead>\n",
       "    <tr style=\"text-align: right;\">\n",
       "      <th></th>\n",
       "      <th>length</th>\n",
       "      <th>Type</th>\n",
       "      <th>Seconds</th>\n",
       "    </tr>\n",
       "  </thead>\n",
       "  <tbody>\n",
       "    <tr>\n",
       "      <th>0</th>\n",
       "      <td>1.0</td>\n",
       "      <td>time_BS</td>\n",
       "      <td>0.0</td>\n",
       "    </tr>\n",
       "    <tr>\n",
       "      <th>1</th>\n",
       "      <td>101.0</td>\n",
       "      <td>time_BS</td>\n",
       "      <td>0.0</td>\n",
       "    </tr>\n",
       "    <tr>\n",
       "      <th>2</th>\n",
       "      <td>201.0</td>\n",
       "      <td>time_BS</td>\n",
       "      <td>0.0</td>\n",
       "    </tr>\n",
       "    <tr>\n",
       "      <th>3</th>\n",
       "      <td>301.0</td>\n",
       "      <td>time_BS</td>\n",
       "      <td>0.0</td>\n",
       "    </tr>\n",
       "    <tr>\n",
       "      <th>4</th>\n",
       "      <td>401.0</td>\n",
       "      <td>time_BS</td>\n",
       "      <td>0.0</td>\n",
       "    </tr>\n",
       "  </tbody>\n",
       "</table>\n",
       "</div>"
      ],
      "text/plain": [
       "   length     Type  Seconds\n",
       "0     1.0  time_BS      0.0\n",
       "1   101.0  time_BS      0.0\n",
       "2   201.0  time_BS      0.0\n",
       "3   301.0  time_BS      0.0\n",
       "4   401.0  time_BS      0.0"
      ]
     },
     "execution_count": 37,
     "metadata": {},
     "output_type": "execute_result"
    }
   ],
   "source": [
    "data=pd.melt(df, ['length'])\n",
    "data.rename(columns={'variable':'Type', 'value':'Seconds'}, inplace=True)\n",
    "data.head()"
   ]
  },
  {
   "cell_type": "code",
   "execution_count": 38,
   "id": "106efef5-ae35-4327-a148-65e5e3c54ba5",
   "metadata": {},
   "outputs": [
    {
     "data": {
      "image/png": "[encoded data removed]",
      "text/plain": [
       "<Figure size 432x288 with 1 Axes>"
      ]
     },
     "metadata": {
      "needs_background": "light"
     },
     "output_type": "display_data"
    }
   ],
   "source": [
    "sns.scatterplot(data.loc[::-1], x='length', y='Seconds', hue='Type', style=\"Type\")\n",
    "plt.show()"
   ]
  },
  {
   "cell_type": "code",
   "execution_count": null,
   "id": "51f2a8a6-0737-438a-a82b-0d099b2a6719",
   "metadata": {},
   "outputs": [],
   "source": []
  }
 ],
 "metadata": {
  "kernelspec": {
   "display_name": "Python 3 (ipykernel)",
   "language": "python",
   "name": "python3"
  },
  "language_info": {
   "codemirror_mode": {
    "name": "ipython",
    "version": 3
   },
   "file_extension": ".py",
   "mimetype": "text/x-python",
   "name": "python",
   "nbconvert_exporter": "python",
   "pygments_lexer": "ipython3",
   "version": "3.9.12"
  }
 },
 "nbformat": 4,
 "nbformat_minor": 5
}
